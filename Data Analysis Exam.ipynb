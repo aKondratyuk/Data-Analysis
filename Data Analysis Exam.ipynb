{
 "cells": [
  {
   "cell_type": "markdown",
   "metadata": {},
   "source": [
    "# Кондратюк Андрій       КМ-62        Варіант 10\n",
    "\n",
    "## <center>Завдання на екзамен</center>\n",
    "1.\tФайл з даними містить: час вимірювання, перший сигнал, другий сигнал. Побудувати графіки сигналів.\n",
    "2.\tЗнайти основні статистичні характеристики: середнє, дисперсію, гістограму розподілу, кореляційну функцію, спектральну щільність (перетворення Фур’є).\n",
    "3.\tПеревірити кореляцію між сигналами. Якщо кореляція існує, то побудувати лінійну залежність між сигналами (перший сигнал –y, другий сигнал -x). Якщо кореляція відсутня, то побудувати квадратичну залежність. Оцінити адекватність моделей та значимість коефіцієнтів.\n",
    "4.\tПобудувати вейвлет – перетворення для двох сигналів. Порівняти результати. (Взяти один з вейвлетів – гауссовий, Шенона, Хаара, на вибір).\n",
    "5.\tПровести однофакторний аналіз (сигнали – це два рівні деякого фактора).\n",
    "6.\tПровести аналіз отриманих результатів."
   ]
  },
  {
   "cell_type": "markdown",
   "metadata": {},
   "source": [
    "## <center>Завдання №1</center>"
   ]
  },
  {
   "cell_type": "markdown",
   "metadata": {},
   "source": [
    "#### Першим кроком буде завантаження даних"
   ]
  },
  {
   "cell_type": "code",
   "execution_count": 9,
   "metadata": {},
   "outputs": [],
   "source": [
    "from csv import reader\n",
    "\n",
    "opened_file = open(r\"C:\\Users\\Andrey\\Downloads\\V10.txt\")\n",
    "read_file = reader(opened_file)\n",
    "data_set = list(read_file)\n",
    "del(data_set[-1])"
   ]
  },
  {
   "cell_type": "markdown",
   "metadata": {},
   "source": [
    "#### Виведемо перших п'ять та останніх рядків. Визначимо загальну кількість рядків"
   ]
  },
  {
   "cell_type": "code",
   "execution_count": 10,
   "metadata": {},
   "outputs": [
    {
     "name": "stdout",
     "output_type": "stream",
     "text": [
      "Перші п'ять рядків\n",
      "\n",
      "Час: 0.000\tПерший Сигнал: 0.175\tДругий Сигнал: 0.635\n",
      "Час: 0.003\tПерший Сигнал: 0.175\tДругий Сигнал: 0.635\n",
      "Час: 0.006\tПерший Сигнал: 0.175\tДругий Сигнал: 0.635\n",
      "Час: 0.008\tПерший Сигнал: 0.175\tДругий Сигнал: 0.635\n",
      "Час: 0.011\tПерший Сигнал: 0.175\tДругий Сигнал: 0.635\n",
      "\n",
      "...\n",
      "\n",
      "Останні 5 рядків\n",
      "Час: 59.986\tПерший Сигнал: -0.160\tДругий Сигнал: 0.120\n",
      "Час: 59.989\tПерший Сигнал: -0.210\tДругий Сигнал: 0.115\n",
      "Час: 59.992\tПерший Сигнал: -0.230\tДругий Сигнал: 0.130\n",
      "Час: 59.994\tПерший Сигнал: -0.240\tДругий Сигнал: 0.135\n",
      "Час: 59.997\tПерший Сигнал: -0.255\tДругий Сигнал: 0.135\n",
      "\n",
      "Загальна кількість рядків: 21600\n",
      "Кількість стовбців: 3\n"
     ]
    }
   ],
   "source": [
    "def explore_data(data_set):\n",
    "    data_set_slice = data_set[:5] + data_set[-5:]\n",
    "    for i in range(len(data_set_slice)):\n",
    "        if i == 0:\n",
    "            print(\"Перші п'ять рядків\\n\")\n",
    "        if i == 5:\n",
    "            print(\"\\n...\\n\\nОстанні 5 рядків\")\n",
    "        \n",
    "        print(f\"Час: {data_set_slice[i][0]}\\tПерший Сигнал: {data_set_slice[i][1]}\\tДругий Сигнал: {data_set_slice[i][2]}\")\n",
    "        \n",
    "    print(f\"\\nЗагальна кількість рядків: {len(data_set)}\")\n",
    "    print(f\"Кількість стовбців: {len(data_set[0])}\")\n",
    "\n",
    "explore_data(data_set)"
   ]
  },
  {
   "cell_type": "markdown",
   "metadata": {},
   "source": [
    "#### Побудуємо три графіки"
   ]
  },
  {
   "cell_type": "code",
   "execution_count": 11,
   "metadata": {},
   "outputs": [],
   "source": [
    "import plotly.plotly as py\n",
    "import plotly.graph_objs as go\n",
    "\n",
    "time          = [float(row[0]) for row in data_set] \n",
    "first_signal  = [float(row[1]) for row in data_set] \n",
    "second_signal = [float(row[2]) for row in data_set]\n",
    "    \n",
    "trace_1 = go.Scatter(\n",
    "    x = time,\n",
    "    y = first_signal,\n",
    "    name = \"Перший Сигнал\",\n",
    "    line = dict(color = '#17BECF'),\n",
    "    opacity = 0.8)\n",
    "\n",
    "trace_2 = go.Scatter(\n",
    "    x = time,\n",
    "    y = second_signal,\n",
    "    name = \"Другий Сигнал\",\n",
    "    line = dict(color = '#7F7F7F'),\n",
    "    opacity = 0.8)\n",
    "\n",
    "data = [trace_1, trace_2]\n",
    "    \n",
    "layout_1 = dict(\n",
    "    title='Значення першого сигналу в залежності від часу',\n",
    "    xaxis = dict(\n",
    "        rangeslider=dict(\n",
    "            visible = True\n",
    "        ),  title = \"Час\"\n",
    "    ),\n",
    "    yaxis = dict(title = \"Значення\")\n",
    ")\n",
    "layout_2 = dict(\n",
    "    title='Значення другого сигналу в залежності від часу',\n",
    "    xaxis = dict(\n",
    "        rangeslider=dict(\n",
    "            visible = True\n",
    "        ),  title = \"Час\"\n",
    "    ),\n",
    "    yaxis = dict(title = \"Значення\")\n",
    ")\n",
    "layout_3 = dict(\n",
    "    title='Значення сигналів в залежності від часу',\n",
    "    xaxis = dict(\n",
    "        rangeslider=dict(\n",
    "            visible = True\n",
    "        ),  title = \"Час\"\n",
    "    ),\n",
    "    yaxis = dict(title = \"Значення\")\n",
    ")\n",
    "\n",
    "fig_1 = dict(data=[trace_1], layout=layout_1)\n",
    "fig_2 = dict(data=[trace_2], layout=layout_2)\n",
    "fig_3 = dict(data=data, layout=layout_3)"
   ]
  },
  {
   "cell_type": "code",
   "execution_count": 27,
   "metadata": {},
   "outputs": [
    {
     "data": {
      "text/html": [
       "<iframe id=\"igraph\" scrolling=\"no\" style=\"border:none;\" seamless=\"seamless\" src=\"https://plot.ly/~MachineAI/37.embed\" height=\"525px\" width=\"100%\"></iframe>"
      ],
      "text/plain": [
       "<plotly.tools.PlotlyDisplay object>"
      ]
     },
     "execution_count": 27,
     "metadata": {},
     "output_type": "execute_result"
    }
   ],
   "source": [
    "py.iplot(fig_1, filename = \"Значення першого сигналу в залежності від часу\")"
   ]
  },
  {
   "cell_type": "code",
   "execution_count": 13,
   "metadata": {},
   "outputs": [
    {
     "data": {
      "text/html": [
       "<iframe id=\"igraph\" scrolling=\"no\" style=\"border:none;\" seamless=\"seamless\" src=\"https://plot.ly/~MachineAI/39.embed\" height=\"525px\" width=\"100%\"></iframe>"
      ],
      "text/plain": [
       "<plotly.tools.PlotlyDisplay object>"
      ]
     },
     "execution_count": 13,
     "metadata": {},
     "output_type": "execute_result"
    }
   ],
   "source": [
    "py.iplot(fig_2, filename = \"Значення другого сигналу в залежності від часу\")"
   ]
  },
  {
   "cell_type": "code",
   "execution_count": 26,
   "metadata": {},
   "outputs": [
    {
     "name": "stdout",
     "output_type": "stream",
     "text": [
      "The draw time for this plot will be slow for clients without much RAM.\n"
     ]
    },
    {
     "data": {
      "text/html": [
       "<iframe id=\"igraph\" scrolling=\"no\" style=\"border:none;\" seamless=\"seamless\" src=\"https://plot.ly/~MachineAI/41.embed\" height=\"525px\" width=\"100%\"></iframe>"
      ],
      "text/plain": [
       "<plotly.tools.PlotlyDisplay object>"
      ]
     },
     "execution_count": 26,
     "metadata": {},
     "output_type": "execute_result"
    }
   ],
   "source": [
    "py.iplot(fig_3, filename = \"Значення сигналів в залежності від часу\")"
   ]
  },
  {
   "cell_type": "markdown",
   "metadata": {},
   "source": [
    "#### Висновоки \n",
    "    На графіках можна спостерігати високу частоту сигналів та їх періодичність."
   ]
  },
  {
   "cell_type": "markdown",
   "metadata": {},
   "source": [
    "## <center>Завдання №2</center>"
   ]
  },
  {
   "cell_type": "markdown",
   "metadata": {},
   "source": [
    "#### Середнє для сигналів"
   ]
  },
  {
   "cell_type": "code",
   "execution_count": 15,
   "metadata": {},
   "outputs": [
    {
     "name": "stdout",
     "output_type": "stream",
     "text": [
      "Cеререднє значення для:\n",
      "Першого сигналу = -0.278269\n",
      "Другого сигналу =  0.063986\n",
      "Обох сигналів =   -0.107142\n"
     ]
    }
   ],
   "source": [
    "both_signal = first_signal + second_signal #concatenate two signals in one list \n",
    "avg_first_signal = sum(first_signal) / len(first_signal)\n",
    "avg_second_signal = sum(second_signal) / len(second_signal)\n",
    "avg_both_signal = sum(both_signal) / len(both_signal)\n",
    "print(f\"Cеререднє значення для:\\nПершого сигналу = {round(avg_first_signal,6)}\\nДругого сигналу =  {round(avg_second_signal,6)}\")\n",
    "print(f\"Обох сигналів =   {round(avg_both_signal,6)}\")"
   ]
  },
  {
   "cell_type": "markdown",
   "metadata": {},
   "source": [
    "#### Дисперсія для сигналів"
   ]
  },
  {
   "cell_type": "code",
   "execution_count": 16,
   "metadata": {},
   "outputs": [
    {
     "name": "stdout",
     "output_type": "stream",
     "text": [
      "Значення дисперсії для:\n",
      "Першого сигналу =  0.172778\n",
      "Другого сигналу =  0.24261\n",
      "Обох сигналів   =  0.178409\n"
     ]
    }
   ],
   "source": [
    "var_first_signal = sum((x_i - avg_first_signal) ** 2 for x_i in first_signal) / len(first_signal)\n",
    "var_second_signal = sum((x_i - avg_first_signal) ** 2 for x_i in second_signal) / len(second_signal)\n",
    "var_both_signal = sum((x_i - avg_both_signal) ** 2 for x_i in both_signal) / len(both_signal)\n",
    "print(f\"Значення дисперсії для:\\nПершого сигналу =  {round(var_first_signal,6)}\\nДругого сигналу =  {round(var_second_signal,6)}\")\n",
    "print(f\"Обох сигналів   =  {round(var_both_signal,6)}\")"
   ]
  },
  {
   "cell_type": "markdown",
   "metadata": {},
   "source": [
    "#### Побудова гістограми розподілу"
   ]
  },
  {
   "cell_type": "code",
   "execution_count": 25,
   "metadata": {},
   "outputs": [
    {
     "name": "stdout",
     "output_type": "stream",
     "text": [
      "The draw time for this plot will be slow for clients without much RAM.\n"
     ]
    },
    {
     "data": {
      "text/html": [
       "<iframe id=\"igraph\" scrolling=\"no\" style=\"border:none;\" seamless=\"seamless\" src=\"https://plot.ly/~MachineAI/55.embed\" height=\"525px\" width=\"100%\"></iframe>"
      ],
      "text/plain": [
       "<plotly.tools.PlotlyDisplay object>"
      ]
     },
     "execution_count": 25,
     "metadata": {},
     "output_type": "execute_result"
    }
   ],
   "source": [
    "import plotly.figure_factory as ff\n",
    "\n",
    "hist_data = [first_signal, second_signal]\n",
    "\n",
    "group_labels = ['Перший сигнал', 'Другий сигнал']\n",
    "\n",
    "colors = ['#17BECF', '#7F7F7F']\n",
    "\n",
    "fig = ff.create_distplot(hist_data, group_labels, bin_size=.16, curve_type='normal', colors=colors)\n",
    "\n",
    "fig['layout'].update(title='Гістограма двох сигналів з нормальним розподілом')\n",
    "\n",
    "py.iplot(fig, filename='Гістограма двох сигналів з нормальним розподілом')"
   ]
  },
  {
   "cell_type": "markdown",
   "metadata": {},
   "source": [
    "#### Висновки\n",
    "    - Перший сигнал \"перекошений вправо\", означає, що велика частка даних розподілена з лівої сторони, а довгий \"хвіст\" \n",
    "    даних простягається вправо\n",
    "    - Другий сигнал \"перекошений вліво\", тобто його хвіст зміщений в ліву сторону. Що означає, більша частина даних  \n",
    "    сконцентрована за правою стороною гаусівського розподілу"
   ]
  },
  {
   "cell_type": "markdown",
   "metadata": {},
   "source": [
    "#### Кореляційна функція"
   ]
  },
  {
   "cell_type": "code",
   "execution_count": 19,
   "metadata": {},
   "outputs": [
    {
     "name": "stdout",
     "output_type": "stream",
     "text": [
      "The draw time for this plot will be slow for clients without much RAM.\n"
     ]
    },
    {
     "data": {
      "text/html": [
       "<iframe id=\"igraph\" scrolling=\"no\" style=\"border:none;\" seamless=\"seamless\" src=\"https://plot.ly/~MachineAI/59.embed\" height=\"525px\" width=\"100%\"></iframe>"
      ],
      "text/plain": [
       "<plotly.tools.PlotlyDisplay object>"
      ]
     },
     "execution_count": 19,
     "metadata": {},
     "output_type": "execute_result"
    }
   ],
   "source": [
    "from scipy import signal\n",
    "import numpy as np\n",
    "\n",
    "y_1 = first_signal\n",
    "y_2 = second_signal\n",
    "n = len(first_signal)\n",
    "ry_1 = np.correlate(y_1, y_1, mode = 'same') / n\n",
    "ry_2 = np.correlate(y_2, y_2, mode = 'same') / n\n",
    "l = np.arange(-n / 2, n / 2)\n",
    "\n",
    "\n",
    "trace_1 = go.Scatter(\n",
    "    x = l,\n",
    "    y = ry_1,\n",
    "    name = \"Перший Сигнал\",\n",
    "    line = dict(color = '#17BECF'),\n",
    "    opacity = 0.8)\n",
    "\n",
    "trace_2 = go.Scatter(\n",
    "    x = l,\n",
    "    y = ry_2,\n",
    "    name = \"Другий Сигнал\",\n",
    "    line = dict(color = '#7F7F7F'),\n",
    "    opacity = 0.8)\n",
    "\n",
    "layout = dict(\n",
    "    title = \"Кореаліаційна функція першого та другого сигналу\"\n",
    ")\n",
    "\n",
    "data = [trace_1, trace_2]\n",
    "\n",
    "fig = dict(data=data, layout=layout)\n",
    "py.iplot(fig, filename='Кореаліаційна функція першого та другого сигналу')"
   ]
  },
  {
   "cell_type": "markdown",
   "metadata": {},
   "source": [
    "АКФ застосовується для знаходження періодичних сигналів, не видимих через додатковий шум "
   ]
  },
  {
   "cell_type": "markdown",
   "metadata": {},
   "source": [
    "#### Спектральна щільність"
   ]
  },
  {
   "cell_type": "code",
   "execution_count": 20,
   "metadata": {},
   "outputs": [
    {
     "data": {
      "text/html": [
       "<iframe id=\"igraph\" scrolling=\"no\" style=\"border:none;\" seamless=\"seamless\" src=\"https://plot.ly/~MachineAI/67.embed\" height=\"525px\" width=\"100%\"></iframe>"
      ],
      "text/plain": [
       "<plotly.tools.PlotlyDisplay object>"
      ]
     },
     "execution_count": 20,
     "metadata": {},
     "output_type": "execute_result"
    }
   ],
   "source": [
    "from scipy import signal\n",
    "\n",
    "freqs_1, psd_1 = signal.welch(first_signal)\n",
    "freqs_2, psd_2 = signal.welch(second_signal)\n",
    "\n",
    "trace_1 = go.Scatter(\n",
    "    x = freqs_1,\n",
    "    y = psd_1,\n",
    "    name = \"Перший Сигнал\",\n",
    "    line = dict(color = '#17BECF'),\n",
    "    opacity = 0.8)\n",
    "\n",
    "trace_2 = go.Scatter(\n",
    "    x = freqs_2,\n",
    "    y = psd_2,\n",
    "    name = \"Другий Сигнал\",\n",
    "    line = dict(color = '#7F7F7F'),\n",
    "    opacity = 0.8)\n",
    "\n",
    "layout = dict(\n",
    "    title = \"Cпектральна щільність першого та другого сигналу\",\n",
    "    xaxis = dict(\n",
    "        type = 'log',\n",
    "        autorange = True)\n",
    ")\n",
    "\n",
    "data = [trace_1, trace_2]\n",
    "\n",
    "fig = dict(data=data, layout=layout)\n",
    "py.iplot(fig, filename='Cпектральна щільність першого та другого сигналу')"
   ]
  },
  {
   "cell_type": "markdown",
   "metadata": {},
   "source": [
    "Даний графік зображує кількісну потужність сигналу для кожної частоти"
   ]
  },
  {
   "cell_type": "markdown",
   "metadata": {},
   "source": [
    "## <center>Завдання №3</center>"
   ]
  },
  {
   "cell_type": "markdown",
   "metadata": {},
   "source": [
    "#### Перевірка залежності між сигналами"
   ]
  },
  {
   "cell_type": "code",
   "execution_count": 21,
   "metadata": {},
   "outputs": [
    {
     "name": "stdout",
     "output_type": "stream",
     "text": [
      "Коефіцієнт кореляції між першим та другим сигналом = -0.5401768627527949\n"
     ]
    }
   ],
   "source": [
    "corr_coef = np.corrcoef(first_signal, second_signal)\n",
    "print(f\"Коефіцієнт кореляції між першим та другим сигналом = {corr_coef[0][1]}\")"
   ]
  },
  {
   "cell_type": "markdown",
   "metadata": {},
   "source": [
    "#### Побудова графіків залежності"
   ]
  },
  {
   "cell_type": "code",
   "execution_count": 22,
   "metadata": {},
   "outputs": [
    {
     "name": "stdout",
     "output_type": "stream",
     "text": [
      " \n",
      "-0.6339 x - 0.2377\n"
     ]
    },
    {
     "data": {
      "text/html": [
       "<iframe id=\"igraph\" scrolling=\"no\" style=\"border:none;\" seamless=\"seamless\" src=\"https://plot.ly/~MachineAI/61.embed\" height=\"525px\" width=\"100%\"></iframe>"
      ],
      "text/plain": [
       "<plotly.tools.PlotlyDisplay object>"
      ]
     },
     "execution_count": 22,
     "metadata": {},
     "output_type": "execute_result"
    }
   ],
   "source": [
    "x = second_signal\n",
    "y = first_signal\n",
    "\n",
    "z = np.polyfit(x, y, 1)\n",
    "f = np.poly1d(z)\n",
    "print(f)\n",
    "\n",
    "x_new = np.linspace(-1.5, 1.5, 5000)\n",
    "y_new = f(x_new)\n",
    "\n",
    "trace_1 = go.Scatter(\n",
    "    x = x,\n",
    "    y = y,\n",
    "    mode = 'markers',\n",
    "    name = 'Сигнали',\n",
    "    opacity = 0.8)\n",
    "\n",
    "trace_2 = go.Scatter(\n",
    "    x = x_new,\n",
    "    y = y_new,\n",
    "    mode = 'lines',\n",
    "    name = 'Лінійна функція'\n",
    ")\n",
    "\n",
    "layout = dict(\n",
    "    title='Лінійна залежність між сигналами'\n",
    ")\n",
    "\n",
    "data = [trace_1, trace_2]\n",
    "\n",
    "fig = dict(data=data, layout=layout)\n",
    "py.iplot(fig, filename='basic-scatter')"
   ]
  },
  {
   "cell_type": "code",
   "execution_count": 64,
   "metadata": {},
   "outputs": [
    {
     "name": "stdout",
     "output_type": "stream",
     "text": [
      "       2\n",
      "0.431 x - 0.4711 x - 0.304\n"
     ]
    },
    {
     "data": {
      "text/html": [
       "<iframe id=\"igraph\" scrolling=\"no\" style=\"border:none;\" seamless=\"seamless\" src=\"https://plot.ly/~MachineAI/63.embed\" height=\"525px\" width=\"100%\"></iframe>"
      ],
      "text/plain": [
       "<plotly.tools.PlotlyDisplay object>"
      ]
     },
     "execution_count": 64,
     "metadata": {},
     "output_type": "execute_result"
    }
   ],
   "source": [
    "x = second_signal\n",
    "y = first_signal\n",
    "\n",
    "z = np.polyfit(x, y, 2)\n",
    "f = np.poly1d(z)\n",
    "print(f)\n",
    "\n",
    "x_new = np.linspace(-1.5, 1.5, 5000)\n",
    "y_new = f(x_new)\n",
    "\n",
    "trace1 = go.Scatter(\n",
    "    x=x,\n",
    "    y=y,\n",
    "    mode='markers',\n",
    "    name='Сигнали'\n",
    ")\n",
    "\n",
    "trace2 = go.Scatter(\n",
    "    x=x_new,\n",
    "    y=y_new,\n",
    "    mode='lines',\n",
    "    name='Квадратична функція'\n",
    ")\n",
    "\n",
    "layout = dict(\n",
    "    title='Квадратична залежність між сигналами',\n",
    ")\n",
    "\n",
    "data = [trace1, trace2]\n",
    "\n",
    "fig = dict(data=data, layout=layout)\n",
    "py.iplot(data, filename='Polynomial-Fit-in-python')"
   ]
  },
  {
   "cell_type": "markdown",
   "metadata": {},
   "source": [
    "#### Висновки.\n",
    "    Отримано негативний коефіцієнт кореляції між двома сигналами: -0.5401768627527949. Більш менш, слабка кореляція \n",
    "    між параметрами, тому опиратись на модель лінійної залежності не варто. Більш адекватною є модель \n",
    "    квадратичної залежності"
   ]
  },
  {
   "cell_type": "markdown",
   "metadata": {},
   "source": [
    "## <center>Завдання №4</center>"
   ]
  },
  {
   "cell_type": "markdown",
   "metadata": {},
   "source": [
    "#### Вейвлет перетворення"
   ]
  },
  {
   "cell_type": "code",
   "execution_count": 63,
   "metadata": {},
   "outputs": [
    {
     "name": "stdout",
     "output_type": "stream",
     "text": [
      "The draw time for this plot will be slow for clients without much RAM.\n"
     ]
    },
    {
     "data": {
      "text/html": [
       "<iframe id=\"igraph\" scrolling=\"no\" style=\"border:none;\" seamless=\"seamless\" src=\"https://plot.ly/~MachineAI/71.embed\" height=\"525px\" width=\"100%\"></iframe>"
      ],
      "text/plain": [
       "<plotly.tools.PlotlyDisplay object>"
      ]
     },
     "execution_count": 63,
     "metadata": {},
     "output_type": "execute_result"
    }
   ],
   "source": [
    "def lowpassfilter(signal, thresh = 0.63, wavelet=\"haar\"):\n",
    "    thresh = thresh * np.nanmax(signal)\n",
    "    coeff = pywt.wavedec(signal, wavelet, mode=\"per\" )\n",
    "    coeff[1:] = (pywt.threshold(i, value=thresh, mode=\"soft\" ) for i in coeff[1:])\n",
    "    reconstructed_signal = pywt.waverec(coeff, wavelet, mode=\"per\" )\n",
    "    return reconstructed_signal\n",
    "\n",
    "rec = lowpassfilter(first_signal, 0.4)\n",
    "\n",
    "trace1 = go.Scatter(\n",
    "    x=time,\n",
    "    y=first_signal,\n",
    "    mode='lines',\n",
    "    name='Перший сигнал',\n",
    "    line = dict(color = '#17BECF'),\n",
    "    opacity = 0.7\n",
    ")\n",
    "\n",
    "trace2 = go.Scatter(\n",
    "    x=time,\n",
    "    y=rec,\n",
    "    mode='lines',\n",
    "    name='Перетворений перший сигнал'\n",
    ")\n",
    "\n",
    "layout = dict(\n",
    "    title='Вейвлет перетворення Хаара для пешого сигналу',\n",
    ")\n",
    "\n",
    "data = [trace1, trace2]\n",
    "\n",
    "fig = dict(data=data, layout=layout)\n",
    "py.iplot(data, filename='Вейвлет перетворення Хаара для пешого сигналу')"
   ]
  },
  {
   "cell_type": "code",
   "execution_count": 62,
   "metadata": {},
   "outputs": [
    {
     "name": "stdout",
     "output_type": "stream",
     "text": [
      "The draw time for this plot will be slow for clients without much RAM.\n"
     ]
    },
    {
     "data": {
      "text/html": [
       "<iframe id=\"igraph\" scrolling=\"no\" style=\"border:none;\" seamless=\"seamless\" src=\"https://plot.ly/~MachineAI/73.embed\" height=\"525px\" width=\"100%\"></iframe>"
      ],
      "text/plain": [
       "<plotly.tools.PlotlyDisplay object>"
      ]
     },
     "execution_count": 62,
     "metadata": {},
     "output_type": "execute_result"
    }
   ],
   "source": [
    "rec = lowpassfilter(second_signal, 0.4)\n",
    "\n",
    "trace1 = go.Scatter(\n",
    "    x=time,\n",
    "    y=first_signal,\n",
    "    mode='lines',\n",
    "    name='Другий сигнал',\n",
    "    line = dict(color = '#7F7F7F'),\n",
    "    opacity = 0.7\n",
    ")\n",
    "\n",
    "trace2 = go.Scatter(\n",
    "    x=time,\n",
    "    y=rec,\n",
    "    mode='lines',\n",
    "    name='Перетворений другий сигнал'\n",
    ")\n",
    "\n",
    "layout = dict(\n",
    "    title='Вейвлет перетворення Хаара для другого сигналу',\n",
    ")\n",
    "\n",
    "data = [trace1, trace2]\n",
    "\n",
    "fig = dict(data=data, layout=layout)\n",
    "py.iplot(data, filename='Вейвлет перетворення Хаара для другого сигналу')"
   ]
  },
  {
   "cell_type": "markdown",
   "metadata": {},
   "source": [
    "#### Висновки\n",
    "    Застосовано вейвлет перетворення Хаарана. Як ми можемо бачити, шляхом деконструкції сигналу, встановлення деяких   \n",
    "    коефіцієнтів до нуля, і відновлення його знову, ми можемо видалити високочастотний шум від сигналу"
   ]
  },
  {
   "cell_type": "markdown",
   "metadata": {},
   "source": [
    "## <center>Завдання №5</center>"
   ]
  },
  {
   "cell_type": "markdown",
   "metadata": {},
   "source": [
    "#### Однофакторний аналіз, де сигнали – це два рівні деякого фактора"
   ]
  },
  {
   "cell_type": "code",
   "execution_count": 74,
   "metadata": {},
   "outputs": [
    {
     "name": "stdout",
     "output_type": "stream",
     "text": [
      "g = max(si)/sum(si) =  0.5793075753557919\n",
      "g_alf: F_0.95_(3,1000) = 2.6\n",
      "нульова гіпотеза виконується g < g_alf\n",
      "Оцінка дисперсії, що характеризується рзсіюванням поза впливом фактора:  0.1491314809796667\n",
      "Вибіркова дисперсія всіх спостережень:  0.1784133833981288\n",
      "Оцінка дисперсії, що характеризує зміни параметра, повязанні з фактором:  1265.0980340561287\n",
      "Оцінка впливу фактора на зміни середнього значення: \n",
      "Sa/S:  7090.824746219107\n",
      "F0.95(f1,f2), f1 - 2, f2 - 21600: 3\n"
     ]
    }
   ],
   "source": [
    "def FactorAnalis(x, y):\n",
    "    factors = 2\n",
    "    n = len(y)\n",
    "    Si2 = [0,0]\n",
    "    xis = []\n",
    "    list = [[i for i in x], [j for j in y]]\n",
    "\n",
    "    xis.append(np.mean(x))\n",
    "    xis.append(np.mean(y))\n",
    "\n",
    "    for i in range(factors):\n",
    "        for j in range(n):\n",
    "            Si2[i] += ((list[i][j] - xis[i]) ** 2)\n",
    "        Si2[i] /= (n - 1)\n",
    "\n",
    "    g = max(Si2) / sum(Si2)\n",
    "\n",
    "    print('g = max(si)/sum(si) = ', g)\n",
    "    print('g_alf: F_0.95_(3,1000) = 2.6')\n",
    "    print('нульова гіпотеза виконується g < g_alf')\n",
    "\n",
    "    S02 = 0\n",
    "    st_r = 0\n",
    "    temp = 0\n",
    "    st_l = 0\n",
    "    for i in range(factors):\n",
    "        for j in range(n):\n",
    "            st_l += list[i][j] ** 2\n",
    "            temp += list[i][j]\n",
    "        st_r += temp ** 2\n",
    "        temp = 0\n",
    "\n",
    "    S02  = 1 / (factors * (n - 1)) * (st_l - st_r / n)\n",
    "    print('Оцінка дисперсії, що характеризується рзсіюванням поза впливом фактора: ', S02)\n",
    "\n",
    "    S2 = 0\n",
    "    st_r = 0\n",
    "    st_l = 0\n",
    "    xi = [0 for row in range(factors)]\n",
    "    temp = 0\n",
    "    x_ss = 0\n",
    "    for i in range(factors):\n",
    "        for j in range(n):\n",
    "            st_l += list[i][j] ** 2\n",
    "            st_r += list[i][j]\n",
    "    S2 = 1 / (factors * n - 1) * (st_l - 1 / (factors * n) * st_r ** 2)\n",
    "    print('Вибіркова дисперсія всіх спостережень: ', S2)\n",
    "\n",
    "    for i in range(factors):\n",
    "        for j in range(n):\n",
    "            temp += list[i][j]\n",
    "        xi[i] = temp / n\n",
    "        temp = 0\n",
    "\n",
    "    for i in range(factors):\n",
    "        x_ss += xi[i]\n",
    "    x_ss /= factors\n",
    "\n",
    "    Sa2 = 0\n",
    "\n",
    "    for i in range(factors):\n",
    "        Sa2 += (xi[i] - x_ss) ** 2\n",
    "    Sa2 = Sa2 * n / (factors - 1)\n",
    "    print(\"Оцінка дисперсії, що характеризує зміни параметра, повязанні з фактором: \", Sa2)\n",
    "    print(\"Оцінка впливу фактора на зміни середнього значення: \")\n",
    "    print(\"Sa/S: \", Sa2 / S2)\n",
    "    print(\"F0.95(f1,f2), f1 - 2, f2 - 21600: 3\")\n",
    "    \n",
    "FactorAnalis(first_signal, second_signal)"
   ]
  },
  {
   "cell_type": "markdown",
   "metadata": {},
   "source": [
    "#### Висновки\n",
    "    Отже, можна сказати, що існує вплив"
   ]
  },
  {
   "cell_type": "markdown",
   "metadata": {},
   "source": [
    "## <center>Висновки</center>"
   ]
  },
  {
   "cell_type": "markdown",
   "metadata": {},
   "source": [
    "    Проаналізувавши обидва сигнали, можна сказати що вони мають слабку негативну кореляцію. Практично нормально розподілені,\n",
    "    мають хвости, де більша частина даних сконцентрована. Сигнали мають високі частоти, які можна прибрати за допомогою \n",
    "    вейвлет перетворення."
   ]
  }
 ],
 "metadata": {
  "kernelspec": {
   "display_name": "Python 3",
   "language": "python",
   "name": "python3"
  },
  "language_info": {
   "codemirror_mode": {
    "name": "ipython",
    "version": 3
   },
   "file_extension": ".py",
   "mimetype": "text/x-python",
   "name": "python",
   "nbconvert_exporter": "python",
   "pygments_lexer": "ipython3",
   "version": "3.6.8"
  }
 },
 "nbformat": 4,
 "nbformat_minor": 2
}
